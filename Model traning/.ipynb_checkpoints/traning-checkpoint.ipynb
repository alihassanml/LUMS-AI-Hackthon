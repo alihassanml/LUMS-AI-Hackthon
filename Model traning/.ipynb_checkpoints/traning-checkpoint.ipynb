{
 "cells": [
  {
   "cell_type": "code",
   "execution_count": 2,
   "id": "df35f5ea-6b2e-4eb5-8715-385cfeff375d",
   "metadata": {},
   "outputs": [],
   "source": [
    "import os\n",
    "import numpy as np\n",
    "import pandas as pd\n",
    "import tensorflow as tf\n",
    "from sklearn.model_selection import train_test_split\n",
    "from tensorflow.keras import Sequential\n",
    "from tensorflow.keras.layers import LSTM, Dense, Dropout, Flatten\n",
    "from tensorflow.keras.utils import to_categorical\n",
    "import warnings\n",
    "warnings.filterwarnings('ignore')"
   ]
  },
  {
   "cell_type": "code",
   "execution_count": null,
   "id": "0c0185e0-88fa-43d7-b913-1a6a08e67097",
   "metadata": {},
   "outputs": [],
   "source": []
  },
  {
   "cell_type": "code",
   "execution_count": 21,
   "id": "c3d9c7a7-369e-4001-ad91-e76f4f3c0a54",
   "metadata": {},
   "outputs": [],
   "source": [
    "NUM_CLASSES = 25\n",
    "NUM_FRAMES = 100\n",
    "INPUT_DIM = 2\n",
    "DATA_DIR = \"Day 1 Data\""
   ]
  },
  {
   "cell_type": "code",
   "execution_count": null,
   "id": "bc2e58d0-374d-46ad-9c95-942516381aa0",
   "metadata": {},
   "outputs": [],
   "source": []
  },
  {
   "cell_type": "code",
   "execution_count": 23,
   "id": "57b3c1fd-9987-4bfa-a65e-37a90d2f992d",
   "metadata": {},
   "outputs": [],
   "source": [
    "def load_data(data_dir):\n",
    "    X, y = [], []\n",
    "    for class_label in range(1, NUM_CLASSES + 1):\n",
    "        class_dir = os.path.join(data_dir, str(class_label))\n",
    "        if not os.path.exists(class_dir):\n",
    "            continue\n",
    "        for csv_file in os.listdir(class_dir):\n",
    "            file_path = os.path.join(class_dir, csv_file)\n",
    "            data = pd.read_csv(file_path)\n",
    "            if len(data) == NUM_FRAMES:  # Ensure the correct number of frames\n",
    "                X.append(data[['x', 'y']].values)\n",
    "                y.append(class_label - 1)  # 0-based index for classes\n",
    "    X = np.array(X, dtype=np.float32)\n",
    "    y = np.array(y, dtype=np.int32)\n",
    "    return X, y"
   ]
  },
  {
   "cell_type": "code",
   "execution_count": 26,
   "id": "3812b06f-e6bc-4654-8253-5f58ba14aadb",
   "metadata": {
    "scrolled": true
   },
   "outputs": [],
   "source": [
    "X,y = load_data(DATA_DIR)"
   ]
  },
  {
   "cell_type": "code",
   "execution_count": 40,
   "id": "a9624bb1-5524-49c9-8c36-5833136ea691",
   "metadata": {},
   "outputs": [
    {
     "data": {
      "text/plain": [
       "(887, 887)"
      ]
     },
     "execution_count": 40,
     "metadata": {},
     "output_type": "execute_result"
    }
   ],
   "source": [
    "len(X),len(y)"
   ]
  },
  {
   "cell_type": "code",
   "execution_count": 37,
   "id": "f90937d4-bd1c-4a69-8ef5-01841f41263f",
   "metadata": {},
   "outputs": [
    {
     "data": {
      "text/plain": [
       "887"
      ]
     },
     "execution_count": 37,
     "metadata": {},
     "output_type": "execute_result"
    }
   ],
   "source": [
    "sum = 0\n",
    "name = os.listdir(DATA_DIR)\n",
    "for i in name:\n",
    "    a = len(os.listdir(os.path.join(DATA_DIR,i)))\n",
    "    sum+=int(a)\n",
    "sum"
   ]
  },
  {
   "cell_type": "code",
   "execution_count": null,
   "id": "4337c687-26f6-4d2e-bbd8-73fdf83433b5",
   "metadata": {},
   "outputs": [],
   "source": []
  },
  {
   "cell_type": "code",
   "execution_count": 45,
   "id": "e80eee30-7b74-4d86-9dd7-a83967090ef4",
   "metadata": {},
   "outputs": [
    {
     "data": {
      "text/plain": [
       "(numpy.ndarray, numpy.ndarray)"
      ]
     },
     "execution_count": 45,
     "metadata": {},
     "output_type": "execute_result"
    }
   ],
   "source": [
    "type(X),type(y)"
   ]
  },
  {
   "cell_type": "code",
   "execution_count": null,
   "id": "3fca9595-5813-4db9-9eaf-646ea310b6e8",
   "metadata": {},
   "outputs": [],
   "source": [
    "y = to_categorical(y, NUM_CLASSES)"
   ]
  },
  {
   "cell_type": "code",
   "execution_count": null,
   "id": "8586ef46-baef-43e6-bb50-910ecf30ad5f",
   "metadata": {},
   "outputs": [],
   "source": [
    "X_train, X_val, y_train, y_val = train_test_split(X, y, test_size=0., random_state=42)"
   ]
  }
 ],
 "metadata": {
  "kernelspec": {
   "display_name": "Python 3 (ipykernel)",
   "language": "python",
   "name": "python3"
  },
  "language_info": {
   "codemirror_mode": {
    "name": "ipython",
    "version": 3
   },
   "file_extension": ".py",
   "mimetype": "text/x-python",
   "name": "python",
   "nbconvert_exporter": "python",
   "pygments_lexer": "ipython3",
   "version": "3.12.3"
  }
 },
 "nbformat": 4,
 "nbformat_minor": 5
}
